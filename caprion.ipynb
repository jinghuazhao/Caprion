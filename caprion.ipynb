{
 "cells": [
  {
   "cell_type": "code",
   "execution_count": null,
   "metadata": {},
   "outputs": [],
   "source": [
    "import pandas as pd\n",
    "import numpy as np\n",
    "import tensorqtl\n",
    "from tensorqtl import genotypeio, cis, trans\n",
    "import matplotlib.pyplot as plt\n",
    "\n",
    "# define paths to data\n",
    "plink_prefix_path = '1'\n",
    "expression_bed = '1.expression.bed.gz'\n",
    "covariates_file = '1.covariates.txt'\n",
    "prefix = 'caprion'\n",
    "\n",
    "# load phenotypes and covariates\n",
    "phenotype_df, phenotype_pos_df = tensorqtl.read_phenotype_bed(expression_bed)\n",
    "covariates_df = pd.read_csv(covariates_file, sep='\\t', index_col=0).T\n",
    "\n",
    "# PLINK reader for genotypes\n",
    "pr = genotypeio.PlinkReader(plink_prefix_path)\n",
    "genotype_df = pr.load_genotypes()\n",
    "variant_df = pr.bim.set_index('snp')[['chrom', 'pos']]"
   ]
  },
  {
   "cell_type": "markdown",
   "metadata": {},
   "source": [
    "### *trans*-QTL mapping"
   ]
  },
  {
   "cell_type": "code",
   "execution_count": null,
   "metadata": {},
   "outputs": [],
   "source": [
    "# run mapping\n",
    "# to limit output size, only associations with p-value <= 1e-5 are returned\n",
    "trans_df = trans.map_trans(genotype_df, phenotype_df, covariates_df, batch_size=20000,\n",
    "                           return_sparse=True, pval_threshold=5e-2, maf_threshold=0.05)\n",
    "trans_df.to_csv(\"caprion.trans\",index = False)\n",
    "# remove cis-associations\n",
    "trans_filter = trans.filter_cis(trans_df, phenotype_pos_df.T.to_dict(), variant_df, window=5000000)\n",
    "trans_filter.head()"
   ]
  },
  {
   "cell_type": "markdown",
   "metadata": {},
   "source": [
    "### *cis*-QTL mapping"
   ]
  },
  {
   "cell_type": "code",
   "execution_count": null,
   "metadata": {
    "scrolled": true
   },
   "outputs": [],
   "source": [
    "# nominal p-values for all variant-phenotype pairs\n",
    "cis.map_nominal(genotype_df, variant_df, phenotype_df, phenotype_pos_df, covariates_df, prefix)\n",
    "pairs_df = pd.read_parquet('{}.cis_qtl_pairs.parquet'.format(prefix))\n",
    "pairs_df.head()\n",
    "pairs_df.to_csv(\"caprion.cis\",index = False)\n",
    "# empirical p-values for phenotypes\n",
    "cis_df = cis.map_cis(genotype_df, variant_df, phenotype_df, phenotype_pos_df, covariates_df)\n",
    "cis_df.head()"
   ]
  }
 ],
 "metadata": {
  "kernelspec": {
   "display_name": "Python 3",
   "language": "python",
   "name": "python3"
  },
  "language_info": {
   "codemirror_mode": {
    "name": "ipython",
    "version": 3
   },
   "file_extension": ".py",
   "mimetype": "text/x-python",
   "name": "python",
   "nbconvert_exporter": "python",
   "pygments_lexer": "ipython3",
   "version": "3.6.8"
  }
 },
 "nbformat": 4,
 "nbformat_minor": 2
}
