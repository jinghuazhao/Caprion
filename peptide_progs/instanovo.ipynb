{
  "nbformat": 4,
  "nbformat_minor": 0,
  "metadata": {
    "colab": {
      "provenance": []
    },
    "kernelspec": {
      "name": "python3",
      "display_name": "Python 3"
    },
    "language_info": {
      "name": "python"
    }
  },
  "cells": [
    {
      "cell_type": "markdown",
      "source": [
        "# InstaNovo analysis"
      ],
      "metadata": {
        "id": "c6I-a9MffnYk"
      }
    },
    {
      "cell_type": "markdown",
      "source": [
        "## 1. Package installation"
      ],
      "metadata": {
        "id": "JVrAaX9sfvUs"
      }
    },
    {
      "cell_type": "code",
      "execution_count": 2,
      "metadata": {
        "colab": {
          "base_uri": "https://localhost:8080/"
        },
        "id": "7Hz2Xu00bKlr",
        "outputId": "65396ae6-4f99-4110-e76c-0b6b948d0dc6"
      },
      "outputs": [
        {
          "output_type": "stream",
          "name": "stdout",
          "text": [
            "Requirement already satisfied: instanovo in /usr/local/lib/python3.11/dist-packages (1.1.1)\n",
            "Requirement already satisfied: datasets>=3.1.0 in /usr/local/lib/python3.11/dist-packages (from instanovo) (3.5.0)\n",
            "Requirement already satisfied: gitpython>=3.1.44 in /usr/local/lib/python3.11/dist-packages (from instanovo) (3.1.44)\n",
            "Requirement already satisfied: hydra-core>=1.3.2 in /usr/local/lib/python3.11/dist-packages (from instanovo) (1.3.2)\n",
            "Requirement already satisfied: jaxtyping>=0.2.34 in /usr/local/lib/python3.11/dist-packages (from instanovo) (0.3.1)\n",
            "Requirement already satisfied: jiwer>=3.0.5 in /usr/local/lib/python3.11/dist-packages (from instanovo) (3.1.0)\n",
            "Requirement already satisfied: lightning>=2.5.1 in /usr/local/lib/python3.11/dist-packages (from instanovo) (2.5.1)\n",
            "Requirement already satisfied: matchms>=0.28.1 in /usr/local/lib/python3.11/dist-packages (from instanovo) (0.28.2)\n",
            "Requirement already satisfied: neptune>=1.13.0 in /usr/local/lib/python3.11/dist-packages (from instanovo) (1.13.0)\n",
            "Requirement already satisfied: numpy>=2.0.2 in /usr/local/lib/python3.11/dist-packages (from instanovo) (2.0.2)\n",
            "Requirement already satisfied: omegaconf>=2.3.0 in /usr/local/lib/python3.11/dist-packages (from instanovo) (2.3.0)\n",
            "Requirement already satisfied: pandas>=2.2.3 in /usr/local/lib/python3.11/dist-packages (from instanovo) (2.2.3)\n",
            "Requirement already satisfied: polars>=1.12.0 in /usr/local/lib/python3.11/dist-packages (from instanovo) (1.21.0)\n",
            "Requirement already satisfied: pyteomics>=4.7.5 in /usr/local/lib/python3.11/dist-packages (from instanovo) (4.7.5)\n",
            "Requirement already satisfied: python-dotenv>=1.0.1 in /usr/local/lib/python3.11/dist-packages (from instanovo) (1.1.0)\n",
            "Requirement already satisfied: pyyaml>=6.0.2 in /usr/local/lib/python3.11/dist-packages (from instanovo) (6.0.2)\n",
            "Requirement already satisfied: requests>=2.32.3 in /usr/local/lib/python3.11/dist-packages (from instanovo) (2.32.3)\n",
            "Requirement already satisfied: s3fs>=2024.9.0 in /usr/local/lib/python3.11/dist-packages (from instanovo) (2024.12.0)\n",
            "Requirement already satisfied: scikit-learn>=1.5.2 in /usr/local/lib/python3.11/dist-packages (from instanovo) (1.6.1)\n",
            "Requirement already satisfied: spectrum-utils>=0.4.2 in /usr/local/lib/python3.11/dist-packages (from instanovo) (0.4.2)\n",
            "Requirement already satisfied: tensorboard>=2.18.0 in /usr/local/lib/python3.11/dist-packages (from instanovo) (2.18.0)\n",
            "Requirement already satisfied: tqdm>=4.67.0 in /usr/local/lib/python3.11/dist-packages (from instanovo) (4.67.1)\n",
            "Requirement already satisfied: transfusion-asr>=0.1.0 in /usr/local/lib/python3.11/dist-packages (from instanovo) (0.1.0)\n",
            "Requirement already satisfied: typer>=0.15.1 in /usr/local/lib/python3.11/dist-packages (from instanovo) (0.15.2)\n",
            "Requirement already satisfied: filelock in /usr/local/lib/python3.11/dist-packages (from datasets>=3.1.0->instanovo) (3.18.0)\n",
            "Requirement already satisfied: pyarrow>=15.0.0 in /usr/local/lib/python3.11/dist-packages (from datasets>=3.1.0->instanovo) (18.1.0)\n",
            "Requirement already satisfied: dill<0.3.9,>=0.3.0 in /usr/local/lib/python3.11/dist-packages (from datasets>=3.1.0->instanovo) (0.3.8)\n",
            "Requirement already satisfied: xxhash in /usr/local/lib/python3.11/dist-packages (from datasets>=3.1.0->instanovo) (3.5.0)\n",
            "Requirement already satisfied: multiprocess<0.70.17 in /usr/local/lib/python3.11/dist-packages (from datasets>=3.1.0->instanovo) (0.70.16)\n",
            "Requirement already satisfied: fsspec<=2024.12.0,>=2023.1.0 in /usr/local/lib/python3.11/dist-packages (from fsspec[http]<=2024.12.0,>=2023.1.0->datasets>=3.1.0->instanovo) (2024.12.0)\n",
            "Requirement already satisfied: aiohttp in /usr/local/lib/python3.11/dist-packages (from datasets>=3.1.0->instanovo) (3.11.15)\n",
            "Requirement already satisfied: huggingface-hub>=0.24.0 in /usr/local/lib/python3.11/dist-packages (from datasets>=3.1.0->instanovo) (0.30.1)\n",
            "Requirement already satisfied: packaging in /usr/local/lib/python3.11/dist-packages (from datasets>=3.1.0->instanovo) (24.2)\n",
            "Requirement already satisfied: gitdb<5,>=4.0.1 in /usr/local/lib/python3.11/dist-packages (from gitpython>=3.1.44->instanovo) (4.0.12)\n",
            "Requirement already satisfied: antlr4-python3-runtime==4.9.* in /usr/local/lib/python3.11/dist-packages (from hydra-core>=1.3.2->instanovo) (4.9.3)\n",
            "Requirement already satisfied: wadler-lindig>=0.1.3 in /usr/local/lib/python3.11/dist-packages (from jaxtyping>=0.2.34->instanovo) (0.1.4)\n",
            "Requirement already satisfied: click>=8.1.8 in /usr/local/lib/python3.11/dist-packages (from jiwer>=3.0.5->instanovo) (8.1.8)\n",
            "Requirement already satisfied: rapidfuzz>=3.9.7 in /usr/local/lib/python3.11/dist-packages (from jiwer>=3.0.5->instanovo) (3.13.0)\n",
            "Requirement already satisfied: lightning-utilities<2.0,>=0.10.0 in /usr/local/lib/python3.11/dist-packages (from lightning>=2.5.1->instanovo) (0.14.3)\n",
            "Requirement already satisfied: torch<4.0,>=2.1.0 in /usr/local/lib/python3.11/dist-packages (from lightning>=2.5.1->instanovo) (2.6.0+cu124)\n",
            "Requirement already satisfied: torchmetrics<3.0,>=0.7.0 in /usr/local/lib/python3.11/dist-packages (from lightning>=2.5.1->instanovo) (1.7.0)\n",
            "Requirement already satisfied: typing-extensions<6.0,>=4.4.0 in /usr/local/lib/python3.11/dist-packages (from lightning>=2.5.1->instanovo) (4.13.0)\n",
            "Requirement already satisfied: pytorch-lightning in /usr/local/lib/python3.11/dist-packages (from lightning>=2.5.1->instanovo) (2.5.1)\n",
            "Requirement already satisfied: deprecated>=1.2.14 in /usr/local/lib/python3.11/dist-packages (from matchms>=0.28.1->instanovo) (1.2.18)\n",
            "Requirement already satisfied: lxml<5.0.0,>=4.9.3 in /usr/local/lib/python3.11/dist-packages (from matchms>=0.28.1->instanovo) (4.9.4)\n",
            "Requirement already satisfied: matplotlib>=3.7 in /usr/local/lib/python3.11/dist-packages (from matchms>=0.28.1->instanovo) (3.10.0)\n",
            "Requirement already satisfied: networkx<4.0.0,>=3.4.2 in /usr/local/lib/python3.11/dist-packages (from matchms>=0.28.1->instanovo) (3.4.2)\n",
            "Requirement already satisfied: numba<0.61.0,>=0.60.0 in /usr/local/lib/python3.11/dist-packages (from matchms>=0.28.1->instanovo) (0.60.0)\n",
            "Requirement already satisfied: pickydict>=0.4.0 in /usr/local/lib/python3.11/dist-packages (from matchms>=0.28.1->instanovo) (0.5.0)\n",
            "Requirement already satisfied: pillow!=9.4.0 in /usr/local/lib/python3.11/dist-packages (from matchms>=0.28.1->instanovo) (11.1.0)\n",
            "Requirement already satisfied: pubchempy in /usr/local/lib/python3.11/dist-packages (from matchms>=0.28.1->instanovo) (1.0.4)\n",
            "Requirement already satisfied: rdkit<2025.0.0,>=2024.3.5 in /usr/local/lib/python3.11/dist-packages (from matchms>=0.28.1->instanovo) (2024.9.6)\n",
            "Requirement already satisfied: scipy<2.0.0,>=1.14.1 in /usr/local/lib/python3.11/dist-packages (from matchms>=0.28.1->instanovo) (1.14.1)\n",
            "Requirement already satisfied: sparsestack>=0.6.0 in /usr/local/lib/python3.11/dist-packages (from matchms>=0.28.1->instanovo) (0.6.4)\n",
            "Requirement already satisfied: PyJWT in /usr/local/lib/python3.11/dist-packages (from neptune>=1.13.0->instanovo) (2.10.1)\n",
            "Requirement already satisfied: boto3>=1.28.0 in /usr/local/lib/python3.11/dist-packages (from neptune>=1.13.0->instanovo) (1.37.1)\n",
            "Requirement already satisfied: bravado<12.0.0,>=11.0.0 in /usr/local/lib/python3.11/dist-packages (from neptune>=1.13.0->instanovo) (11.1.0)\n",
            "Requirement already satisfied: future>=0.17.1 in /usr/local/lib/python3.11/dist-packages (from neptune>=1.13.0->instanovo) (1.0.0)\n",
            "Requirement already satisfied: oauthlib>=2.1.0 in /usr/local/lib/python3.11/dist-packages (from neptune>=1.13.0->instanovo) (3.2.2)\n",
            "Requirement already satisfied: psutil in /usr/local/lib/python3.11/dist-packages (from neptune>=1.13.0->instanovo) (5.9.5)\n",
            "Requirement already satisfied: requests-oauthlib>=1.0.0 in /usr/local/lib/python3.11/dist-packages (from neptune>=1.13.0->instanovo) (2.0.0)\n",
            "Requirement already satisfied: six>=1.12.0 in /usr/local/lib/python3.11/dist-packages (from neptune>=1.13.0->instanovo) (1.17.0)\n",
            "Requirement already satisfied: swagger-spec-validator>=2.7.4 in /usr/local/lib/python3.11/dist-packages (from neptune>=1.13.0->instanovo) (3.0.4)\n",
            "Requirement already satisfied: urllib3 in /usr/local/lib/python3.11/dist-packages (from neptune>=1.13.0->instanovo) (2.3.0)\n",
            "Requirement already satisfied: websocket-client!=1.0.0,>=0.35.0 in /usr/local/lib/python3.11/dist-packages (from neptune>=1.13.0->instanovo) (1.8.0)\n",
            "Requirement already satisfied: python-dateutil>=2.8.2 in /usr/local/lib/python3.11/dist-packages (from pandas>=2.2.3->instanovo) (2.8.2)\n",
            "Requirement already satisfied: pytz>=2020.1 in /usr/local/lib/python3.11/dist-packages (from pandas>=2.2.3->instanovo) (2025.2)\n",
            "Requirement already satisfied: tzdata>=2022.7 in /usr/local/lib/python3.11/dist-packages (from pandas>=2.2.3->instanovo) (2025.2)\n",
            "Requirement already satisfied: charset-normalizer<4,>=2 in /usr/local/lib/python3.11/dist-packages (from requests>=2.32.3->instanovo) (3.4.1)\n",
            "Requirement already satisfied: idna<4,>=2.5 in /usr/local/lib/python3.11/dist-packages (from requests>=2.32.3->instanovo) (3.10)\n",
            "Requirement already satisfied: certifi>=2017.4.17 in /usr/local/lib/python3.11/dist-packages (from requests>=2.32.3->instanovo) (2025.1.31)\n",
            "Requirement already satisfied: aiobotocore<3.0.0,>=2.5.4 in /usr/local/lib/python3.11/dist-packages (from s3fs>=2024.9.0->instanovo) (2.21.1)\n",
            "Requirement already satisfied: joblib>=1.2.0 in /usr/local/lib/python3.11/dist-packages (from scikit-learn>=1.5.2->instanovo) (1.4.2)\n",
            "Requirement already satisfied: threadpoolctl>=3.1.0 in /usr/local/lib/python3.11/dist-packages (from scikit-learn>=1.5.2->instanovo) (3.6.0)\n",
            "Requirement already satisfied: appdirs in /usr/local/lib/python3.11/dist-packages (from spectrum-utils>=0.4.2->instanovo) (1.4.4)\n",
            "Requirement already satisfied: fastobo in /usr/local/lib/python3.11/dist-packages (from spectrum-utils>=0.4.2->instanovo) (0.13.0)\n",
            "Requirement already satisfied: lark>=1.0 in /usr/local/lib/python3.11/dist-packages (from spectrum-utils>=0.4.2->instanovo) (1.2.2)\n",
            "Requirement already satisfied: absl-py>=0.4 in /usr/local/lib/python3.11/dist-packages (from tensorboard>=2.18.0->instanovo) (1.4.0)\n",
            "Requirement already satisfied: grpcio>=1.48.2 in /usr/local/lib/python3.11/dist-packages (from tensorboard>=2.18.0->instanovo) (1.71.0)\n",
            "Requirement already satisfied: markdown>=2.6.8 in /usr/local/lib/python3.11/dist-packages (from tensorboard>=2.18.0->instanovo) (3.7)\n",
            "Requirement already satisfied: protobuf!=4.24.0,>=3.19.6 in /usr/local/lib/python3.11/dist-packages (from tensorboard>=2.18.0->instanovo) (5.29.4)\n",
            "Requirement already satisfied: setuptools>=41.0.0 in /usr/local/lib/python3.11/dist-packages (from tensorboard>=2.18.0->instanovo) (75.2.0)\n",
            "Requirement already satisfied: tensorboard-data-server<0.8.0,>=0.7.0 in /usr/local/lib/python3.11/dist-packages (from tensorboard>=2.18.0->instanovo) (0.7.2)\n",
            "Requirement already satisfied: werkzeug>=1.0.1 in /usr/local/lib/python3.11/dist-packages (from tensorboard>=2.18.0->instanovo) (3.1.3)\n",
            "Requirement already satisfied: shellingham>=1.3.0 in /usr/local/lib/python3.11/dist-packages (from typer>=0.15.1->instanovo) (1.5.4)\n",
            "Requirement already satisfied: rich>=10.11.0 in /usr/local/lib/python3.11/dist-packages (from typer>=0.15.1->instanovo) (13.9.4)\n",
            "Requirement already satisfied: aioitertools<1.0.0,>=0.5.1 in /usr/local/lib/python3.11/dist-packages (from aiobotocore<3.0.0,>=2.5.4->s3fs>=2024.9.0->instanovo) (0.12.0)\n",
            "Requirement already satisfied: botocore<1.37.2,>=1.37.0 in /usr/local/lib/python3.11/dist-packages (from aiobotocore<3.0.0,>=2.5.4->s3fs>=2024.9.0->instanovo) (1.37.1)\n",
            "Requirement already satisfied: jmespath<2.0.0,>=0.7.1 in /usr/local/lib/python3.11/dist-packages (from aiobotocore<3.0.0,>=2.5.4->s3fs>=2024.9.0->instanovo) (1.0.1)\n",
            "Requirement already satisfied: multidict<7.0.0,>=6.0.0 in /usr/local/lib/python3.11/dist-packages (from aiobotocore<3.0.0,>=2.5.4->s3fs>=2024.9.0->instanovo) (6.3.1)\n",
            "Requirement already satisfied: wrapt<2.0.0,>=1.10.10 in /usr/local/lib/python3.11/dist-packages (from aiobotocore<3.0.0,>=2.5.4->s3fs>=2024.9.0->instanovo) (1.17.2)\n",
            "Requirement already satisfied: aiohappyeyeballs>=2.3.0 in /usr/local/lib/python3.11/dist-packages (from aiohttp->datasets>=3.1.0->instanovo) (2.6.1)\n",
            "Requirement already satisfied: aiosignal>=1.1.2 in /usr/local/lib/python3.11/dist-packages (from aiohttp->datasets>=3.1.0->instanovo) (1.3.2)\n",
            "Requirement already satisfied: attrs>=17.3.0 in /usr/local/lib/python3.11/dist-packages (from aiohttp->datasets>=3.1.0->instanovo) (25.3.0)\n",
            "Requirement already satisfied: frozenlist>=1.1.1 in /usr/local/lib/python3.11/dist-packages (from aiohttp->datasets>=3.1.0->instanovo) (1.5.0)\n",
            "Requirement already satisfied: propcache>=0.2.0 in /usr/local/lib/python3.11/dist-packages (from aiohttp->datasets>=3.1.0->instanovo) (0.3.1)\n",
            "Requirement already satisfied: yarl<2.0,>=1.17.0 in /usr/local/lib/python3.11/dist-packages (from aiohttp->datasets>=3.1.0->instanovo) (1.18.3)\n",
            "Requirement already satisfied: s3transfer<0.12.0,>=0.11.0 in /usr/local/lib/python3.11/dist-packages (from boto3>=1.28.0->neptune>=1.13.0->instanovo) (0.11.3)\n",
            "Requirement already satisfied: bravado-core>=5.16.1 in /usr/local/lib/python3.11/dist-packages (from bravado<12.0.0,>=11.0.0->neptune>=1.13.0->instanovo) (6.1.1)\n",
            "Requirement already satisfied: monotonic in /usr/local/lib/python3.11/dist-packages (from bravado<12.0.0,>=11.0.0->neptune>=1.13.0->instanovo) (1.6)\n",
            "Requirement already satisfied: msgpack in /usr/local/lib/python3.11/dist-packages (from bravado<12.0.0,>=11.0.0->neptune>=1.13.0->instanovo) (1.1.0)\n",
            "Requirement already satisfied: simplejson in /usr/local/lib/python3.11/dist-packages (from bravado<12.0.0,>=11.0.0->neptune>=1.13.0->instanovo) (3.20.1)\n",
            "Requirement already satisfied: smmap<6,>=3.0.1 in /usr/local/lib/python3.11/dist-packages (from gitdb<5,>=4.0.1->gitpython>=3.1.44->instanovo) (5.0.2)\n",
            "Requirement already satisfied: contourpy>=1.0.1 in /usr/local/lib/python3.11/dist-packages (from matplotlib>=3.7->matchms>=0.28.1->instanovo) (1.3.1)\n",
            "Requirement already satisfied: cycler>=0.10 in /usr/local/lib/python3.11/dist-packages (from matplotlib>=3.7->matchms>=0.28.1->instanovo) (0.12.1)\n",
            "Requirement already satisfied: fonttools>=4.22.0 in /usr/local/lib/python3.11/dist-packages (from matplotlib>=3.7->matchms>=0.28.1->instanovo) (4.56.0)\n",
            "Requirement already satisfied: kiwisolver>=1.3.1 in /usr/local/lib/python3.11/dist-packages (from matplotlib>=3.7->matchms>=0.28.1->instanovo) (1.4.8)\n",
            "Requirement already satisfied: pyparsing>=2.3.1 in /usr/local/lib/python3.11/dist-packages (from matplotlib>=3.7->matchms>=0.28.1->instanovo) (3.2.3)\n",
            "Requirement already satisfied: llvmlite<0.44,>=0.43.0dev0 in /usr/local/lib/python3.11/dist-packages (from numba<0.61.0,>=0.60.0->matchms>=0.28.1->instanovo) (0.43.0)\n",
            "Requirement already satisfied: markdown-it-py>=2.2.0 in /usr/local/lib/python3.11/dist-packages (from rich>=10.11.0->typer>=0.15.1->instanovo) (3.0.0)\n",
            "Requirement already satisfied: pygments<3.0.0,>=2.13.0 in /usr/local/lib/python3.11/dist-packages (from rich>=10.11.0->typer>=0.15.1->instanovo) (2.18.0)\n",
            "Requirement already satisfied: jsonschema in /usr/local/lib/python3.11/dist-packages (from swagger-spec-validator>=2.7.4->neptune>=1.13.0->instanovo) (4.23.0)\n",
            "Requirement already satisfied: importlib-resources>=1.3 in /usr/local/lib/python3.11/dist-packages (from swagger-spec-validator>=2.7.4->neptune>=1.13.0->instanovo) (6.5.2)\n",
            "Requirement already satisfied: jinja2 in /usr/local/lib/python3.11/dist-packages (from torch<4.0,>=2.1.0->lightning>=2.5.1->instanovo) (3.1.6)\n",
            "Requirement already satisfied: nvidia-cuda-nvrtc-cu12==12.4.127 in /usr/local/lib/python3.11/dist-packages (from torch<4.0,>=2.1.0->lightning>=2.5.1->instanovo) (12.4.127)\n",
            "Requirement already satisfied: nvidia-cuda-runtime-cu12==12.4.127 in /usr/local/lib/python3.11/dist-packages (from torch<4.0,>=2.1.0->lightning>=2.5.1->instanovo) (12.4.127)\n",
            "Requirement already satisfied: nvidia-cuda-cupti-cu12==12.4.127 in /usr/local/lib/python3.11/dist-packages (from torch<4.0,>=2.1.0->lightning>=2.5.1->instanovo) (12.4.127)\n",
            "Requirement already satisfied: nvidia-cudnn-cu12==9.1.0.70 in /usr/local/lib/python3.11/dist-packages (from torch<4.0,>=2.1.0->lightning>=2.5.1->instanovo) (9.1.0.70)\n",
            "Requirement already satisfied: nvidia-cublas-cu12==12.4.5.8 in /usr/local/lib/python3.11/dist-packages (from torch<4.0,>=2.1.0->lightning>=2.5.1->instanovo) (12.4.5.8)\n",
            "Requirement already satisfied: nvidia-cufft-cu12==11.2.1.3 in /usr/local/lib/python3.11/dist-packages (from torch<4.0,>=2.1.0->lightning>=2.5.1->instanovo) (11.2.1.3)\n",
            "Requirement already satisfied: nvidia-curand-cu12==10.3.5.147 in /usr/local/lib/python3.11/dist-packages (from torch<4.0,>=2.1.0->lightning>=2.5.1->instanovo) (10.3.5.147)\n",
            "Requirement already satisfied: nvidia-cusolver-cu12==11.6.1.9 in /usr/local/lib/python3.11/dist-packages (from torch<4.0,>=2.1.0->lightning>=2.5.1->instanovo) (11.6.1.9)\n",
            "Requirement already satisfied: nvidia-cusparse-cu12==12.3.1.170 in /usr/local/lib/python3.11/dist-packages (from torch<4.0,>=2.1.0->lightning>=2.5.1->instanovo) (12.3.1.170)\n",
            "Requirement already satisfied: nvidia-cusparselt-cu12==0.6.2 in /usr/local/lib/python3.11/dist-packages (from torch<4.0,>=2.1.0->lightning>=2.5.1->instanovo) (0.6.2)\n",
            "Requirement already satisfied: nvidia-nccl-cu12==2.21.5 in /usr/local/lib/python3.11/dist-packages (from torch<4.0,>=2.1.0->lightning>=2.5.1->instanovo) (2.21.5)\n",
            "Requirement already satisfied: nvidia-nvtx-cu12==12.4.127 in /usr/local/lib/python3.11/dist-packages (from torch<4.0,>=2.1.0->lightning>=2.5.1->instanovo) (12.4.127)\n",
            "Requirement already satisfied: nvidia-nvjitlink-cu12==12.4.127 in /usr/local/lib/python3.11/dist-packages (from torch<4.0,>=2.1.0->lightning>=2.5.1->instanovo) (12.4.127)\n",
            "Requirement already satisfied: triton==3.2.0 in /usr/local/lib/python3.11/dist-packages (from torch<4.0,>=2.1.0->lightning>=2.5.1->instanovo) (3.2.0)\n",
            "Requirement already satisfied: sympy==1.13.1 in /usr/local/lib/python3.11/dist-packages (from torch<4.0,>=2.1.0->lightning>=2.5.1->instanovo) (1.13.1)\n",
            "Requirement already satisfied: mpmath<1.4,>=1.1.0 in /usr/local/lib/python3.11/dist-packages (from sympy==1.13.1->torch<4.0,>=2.1.0->lightning>=2.5.1->instanovo) (1.3.0)\n",
            "Requirement already satisfied: MarkupSafe>=2.1.1 in /usr/local/lib/python3.11/dist-packages (from werkzeug>=1.0.1->tensorboard>=2.18.0->instanovo) (3.0.2)\n",
            "Requirement already satisfied: jsonref in /usr/local/lib/python3.11/dist-packages (from bravado-core>=5.16.1->bravado<12.0.0,>=11.0.0->neptune>=1.13.0->instanovo) (1.1.0)\n",
            "Requirement already satisfied: jsonschema-specifications>=2023.03.6 in /usr/local/lib/python3.11/dist-packages (from jsonschema->swagger-spec-validator>=2.7.4->neptune>=1.13.0->instanovo) (2024.10.1)\n",
            "Requirement already satisfied: referencing>=0.28.4 in /usr/local/lib/python3.11/dist-packages (from jsonschema->swagger-spec-validator>=2.7.4->neptune>=1.13.0->instanovo) (0.36.2)\n",
            "Requirement already satisfied: rpds-py>=0.7.1 in /usr/local/lib/python3.11/dist-packages (from jsonschema->swagger-spec-validator>=2.7.4->neptune>=1.13.0->instanovo) (0.24.0)\n",
            "Requirement already satisfied: mdurl~=0.1 in /usr/local/lib/python3.11/dist-packages (from markdown-it-py>=2.2.0->rich>=10.11.0->typer>=0.15.1->instanovo) (0.1.2)\n",
            "Requirement already satisfied: fqdn in /usr/local/lib/python3.11/dist-packages (from jsonschema[format-nongpl]>=2.5.1->bravado-core>=5.16.1->bravado<12.0.0,>=11.0.0->neptune>=1.13.0->instanovo) (1.5.1)\n",
            "Requirement already satisfied: isoduration in /usr/local/lib/python3.11/dist-packages (from jsonschema[format-nongpl]>=2.5.1->bravado-core>=5.16.1->bravado<12.0.0,>=11.0.0->neptune>=1.13.0->instanovo) (20.11.0)\n",
            "Requirement already satisfied: jsonpointer>1.13 in /usr/local/lib/python3.11/dist-packages (from jsonschema[format-nongpl]>=2.5.1->bravado-core>=5.16.1->bravado<12.0.0,>=11.0.0->neptune>=1.13.0->instanovo) (3.0.0)\n",
            "Requirement already satisfied: rfc3339-validator in /usr/local/lib/python3.11/dist-packages (from jsonschema[format-nongpl]>=2.5.1->bravado-core>=5.16.1->bravado<12.0.0,>=11.0.0->neptune>=1.13.0->instanovo) (0.1.4)\n",
            "Requirement already satisfied: rfc3986-validator>0.1.0 in /usr/local/lib/python3.11/dist-packages (from jsonschema[format-nongpl]>=2.5.1->bravado-core>=5.16.1->bravado<12.0.0,>=11.0.0->neptune>=1.13.0->instanovo) (0.1.1)\n",
            "Requirement already satisfied: uri-template in /usr/local/lib/python3.11/dist-packages (from jsonschema[format-nongpl]>=2.5.1->bravado-core>=5.16.1->bravado<12.0.0,>=11.0.0->neptune>=1.13.0->instanovo) (1.3.0)\n",
            "Requirement already satisfied: webcolors>=24.6.0 in /usr/local/lib/python3.11/dist-packages (from jsonschema[format-nongpl]>=2.5.1->bravado-core>=5.16.1->bravado<12.0.0,>=11.0.0->neptune>=1.13.0->instanovo) (24.11.1)\n",
            "Requirement already satisfied: arrow>=0.15.0 in /usr/local/lib/python3.11/dist-packages (from isoduration->jsonschema[format-nongpl]>=2.5.1->bravado-core>=5.16.1->bravado<12.0.0,>=11.0.0->neptune>=1.13.0->instanovo) (1.3.0)\n",
            "Requirement already satisfied: types-python-dateutil>=2.8.10 in /usr/local/lib/python3.11/dist-packages (from arrow>=0.15.0->isoduration->jsonschema[format-nongpl]>=2.5.1->bravado-core>=5.16.1->bravado<12.0.0,>=11.0.0->neptune>=1.13.0->instanovo) (2.9.0.20241206)\n"
          ]
        }
      ],
      "source": [
        "!pip install instanovo"
      ]
    },
    {
      "cell_type": "markdown",
      "source": [
        "## 2. File handling\n",
        "\n",
        "One of the following options can be used."
      ],
      "metadata": {
        "id": "mQAdhSblet1X"
      }
    },
    {
      "cell_type": "markdown",
      "source": [
        "## 2.1 Upload local files"
      ],
      "metadata": {
        "id": "emuyMVCDgBDa"
      }
    },
    {
      "cell_type": "code",
      "source": [
        "from google.colab import files\n",
        "uploaded = files.upload()"
      ],
      "metadata": {
        "id": "8kesNNtldTo1"
      },
      "execution_count": null,
      "outputs": []
    },
    {
      "cell_type": "markdown",
      "source": [
        "## 2.2 Access Google drive"
      ],
      "metadata": {
        "id": "SlK5cq4IfCQ2"
      }
    },
    {
      "cell_type": "code",
      "source": [
        "from google.colab import drive\n",
        "drive.mount('/content/drive')"
      ],
      "metadata": {
        "id": "dMmm3hB-d0vP"
      },
      "execution_count": null,
      "outputs": []
    },
    {
      "cell_type": "markdown",
      "source": [
        "## 3. Running InstaNovo"
      ],
      "metadata": {
        "id": "cyFqimnsezNi"
      }
    },
    {
      "cell_type": "code",
      "source": [
        "!pip install ipython"
      ],
      "metadata": {
        "colab": {
          "base_uri": "https://localhost:8080/"
        },
        "id": "uQr7BiKeAXqK",
        "outputId": "70bd1890-4196-47b2-903b-5279f2ffe7b1"
      },
      "execution_count": 14,
      "outputs": [
        {
          "output_type": "stream",
          "name": "stdout",
          "text": [
            "Requirement already satisfied: ipython in /usr/local/lib/python3.11/dist-packages (7.34.0)\n",
            "Requirement already satisfied: setuptools>=18.5 in /usr/local/lib/python3.11/dist-packages (from ipython) (75.2.0)\n",
            "Collecting jedi>=0.16 (from ipython)\n",
            "  Downloading jedi-0.19.2-py2.py3-none-any.whl.metadata (22 kB)\n",
            "Requirement already satisfied: decorator in /usr/local/lib/python3.11/dist-packages (from ipython) (4.4.2)\n",
            "Requirement already satisfied: pickleshare in /usr/local/lib/python3.11/dist-packages (from ipython) (0.7.5)\n",
            "Requirement already satisfied: traitlets>=4.2 in /usr/local/lib/python3.11/dist-packages (from ipython) (5.7.1)\n",
            "Requirement already satisfied: prompt-toolkit!=3.0.0,!=3.0.1,<3.1.0,>=2.0.0 in /usr/local/lib/python3.11/dist-packages (from ipython) (3.0.50)\n",
            "Requirement already satisfied: pygments in /usr/local/lib/python3.11/dist-packages (from ipython) (2.18.0)\n",
            "Requirement already satisfied: backcall in /usr/local/lib/python3.11/dist-packages (from ipython) (0.2.0)\n",
            "Requirement already satisfied: matplotlib-inline in /usr/local/lib/python3.11/dist-packages (from ipython) (0.1.7)\n",
            "Requirement already satisfied: pexpect>4.3 in /usr/local/lib/python3.11/dist-packages (from ipython) (4.9.0)\n",
            "Requirement already satisfied: parso<0.9.0,>=0.8.4 in /usr/local/lib/python3.11/dist-packages (from jedi>=0.16->ipython) (0.8.4)\n",
            "Requirement already satisfied: ptyprocess>=0.5 in /usr/local/lib/python3.11/dist-packages (from pexpect>4.3->ipython) (0.7.0)\n",
            "Requirement already satisfied: wcwidth in /usr/local/lib/python3.11/dist-packages (from prompt-toolkit!=3.0.0,!=3.0.1,<3.1.0,>=2.0.0->ipython) (0.2.13)\n",
            "Downloading jedi-0.19.2-py2.py3-none-any.whl (1.6 MB)\n",
            "\u001b[2K   \u001b[90m━━━━━━━━━━━━━━━━━━━━━━━━━━━━━━━━━━━━━━━━\u001b[0m \u001b[32m1.6/1.6 MB\u001b[0m \u001b[31m23.2 MB/s\u001b[0m eta \u001b[36m0:00:00\u001b[0m\n",
            "\u001b[?25hInstalling collected packages: jedi\n",
            "Successfully installed jedi-0.19.2\n"
          ]
        }
      ]
    },
    {
      "cell_type": "code",
      "source": [
        "!instanovo predict data-path='/content/drive/budp092805b21101xms1.mzML' output-path=UHZ.csv"
      ],
      "metadata": {
        "id": "wcpjhauacumW"
      },
      "execution_count": null,
      "outputs": []
    }
  ]
}